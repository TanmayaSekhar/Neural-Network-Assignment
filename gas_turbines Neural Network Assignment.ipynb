{
 "cells": [
  {
   "cell_type": "markdown",
   "metadata": {},
   "source": [
    "# Neural Network Assignment"
   ]
  },
  {
   "cell_type": "markdown",
   "metadata": {},
   "source": [
    "## Dataset - gas_turbines"
   ]
  },
  {
   "cell_type": "markdown",
   "metadata": {},
   "source": [
    "#### The dataset contains 36733 instances of 11 sensor measures aggregated over one hour (by means of average or sum) from a gas turbine. \n",
    "#### The Dataset includes gas turbine parameters (such as Turbine Inlet Temperature and Compressor Discharge pressure) in addition to the ambient variables.\n",
    "\n",
    "## Problem statement: predicting turbine energy yield (TEY) using ambient variables as features.\n",
    "\n",
    "Attribute Information:\n",
    "\n",
    "The explanations of sensor measurements and their brief statistics are given below.\n",
    "\n",
    "Variable (Abbr.) Unit Min Max Mean\n",
    "Ambient temperature (AT) C â€“6.23 37.10 17.71\n",
    "Ambient pressure (AP) mbar 985.85 1036.56 1013.07\n",
    "Ambient humidity (AH) (%) 24.08 100.20 77.87\n",
    "Air filter difference pressure (AFDP) mbar 2.09 7.61 3.93\n",
    "Gas turbine exhaust pressure (GTEP) mbar 17.70 40.72 25.56\n",
    "Turbine inlet temperature (TIT) C 1000.85 1100.89 1081.43\n",
    "Turbine after temperature (TAT) C 511.04 550.61 546.16\n",
    "Compressor discharge pressure (CDP) mbar 9.85 15.16 12.06\n",
    "Turbine energy yield (TEY) MWH 100.02 179.50 133.51\n",
    "Carbon monoxide (CO) mg/m3 0.00 44.10 2.37\n",
    "Nitrogen oxides (NOx) mg/m3 25.90 119.91 65.29"
   ]
  },
  {
   "cell_type": "markdown",
   "metadata": {},
   "source": [
    "# Importing necessary packages"
   ]
  },
  {
   "cell_type": "code",
   "execution_count": 1,
   "metadata": {},
   "outputs": [],
   "source": [
    "import pandas as pd\n",
    "import numpy as np\n",
    "import matplotlib.pyplot as plt\n",
    "import seaborn as sns\n",
    "import keras\n",
    "from sklearn.preprocessing import StandardScaler\n",
    "from keras.models import Sequential\n",
    "from keras.layers import Dense"
   ]
  },
  {
   "cell_type": "markdown",
   "metadata": {},
   "source": [
    "### Load & Understand the data set"
   ]
  },
  {
   "cell_type": "code",
   "execution_count": 2,
   "metadata": {},
   "outputs": [],
   "source": [
    "data = pd.read_csv(\"gas_turbines.csv\")"
   ]
  },
  {
   "cell_type": "code",
   "execution_count": 3,
   "metadata": {},
   "outputs": [
    {
     "data": {
      "text/html": [
       "<div>\n",
       "<style scoped>\n",
       "    .dataframe tbody tr th:only-of-type {\n",
       "        vertical-align: middle;\n",
       "    }\n",
       "\n",
       "    .dataframe tbody tr th {\n",
       "        vertical-align: top;\n",
       "    }\n",
       "\n",
       "    .dataframe thead th {\n",
       "        text-align: right;\n",
       "    }\n",
       "</style>\n",
       "<table border=\"1\" class=\"dataframe\">\n",
       "  <thead>\n",
       "    <tr style=\"text-align: right;\">\n",
       "      <th></th>\n",
       "      <th>AT</th>\n",
       "      <th>AP</th>\n",
       "      <th>AH</th>\n",
       "      <th>AFDP</th>\n",
       "      <th>GTEP</th>\n",
       "      <th>TIT</th>\n",
       "      <th>TAT</th>\n",
       "      <th>TEY</th>\n",
       "      <th>CDP</th>\n",
       "      <th>CO</th>\n",
       "      <th>NOX</th>\n",
       "    </tr>\n",
       "  </thead>\n",
       "  <tbody>\n",
       "    <tr>\n",
       "      <th>0</th>\n",
       "      <td>6.8594</td>\n",
       "      <td>1007.9</td>\n",
       "      <td>96.799</td>\n",
       "      <td>3.5000</td>\n",
       "      <td>19.663</td>\n",
       "      <td>1059.2</td>\n",
       "      <td>550.00</td>\n",
       "      <td>114.70</td>\n",
       "      <td>10.605</td>\n",
       "      <td>3.1547</td>\n",
       "      <td>82.722</td>\n",
       "    </tr>\n",
       "    <tr>\n",
       "      <th>1</th>\n",
       "      <td>6.7850</td>\n",
       "      <td>1008.4</td>\n",
       "      <td>97.118</td>\n",
       "      <td>3.4998</td>\n",
       "      <td>19.728</td>\n",
       "      <td>1059.3</td>\n",
       "      <td>550.00</td>\n",
       "      <td>114.72</td>\n",
       "      <td>10.598</td>\n",
       "      <td>3.2363</td>\n",
       "      <td>82.776</td>\n",
       "    </tr>\n",
       "    <tr>\n",
       "      <th>2</th>\n",
       "      <td>6.8977</td>\n",
       "      <td>1008.8</td>\n",
       "      <td>95.939</td>\n",
       "      <td>3.4824</td>\n",
       "      <td>19.779</td>\n",
       "      <td>1059.4</td>\n",
       "      <td>549.87</td>\n",
       "      <td>114.71</td>\n",
       "      <td>10.601</td>\n",
       "      <td>3.2012</td>\n",
       "      <td>82.468</td>\n",
       "    </tr>\n",
       "    <tr>\n",
       "      <th>3</th>\n",
       "      <td>7.0569</td>\n",
       "      <td>1009.2</td>\n",
       "      <td>95.249</td>\n",
       "      <td>3.4805</td>\n",
       "      <td>19.792</td>\n",
       "      <td>1059.6</td>\n",
       "      <td>549.99</td>\n",
       "      <td>114.72</td>\n",
       "      <td>10.606</td>\n",
       "      <td>3.1923</td>\n",
       "      <td>82.670</td>\n",
       "    </tr>\n",
       "    <tr>\n",
       "      <th>4</th>\n",
       "      <td>7.3978</td>\n",
       "      <td>1009.7</td>\n",
       "      <td>95.150</td>\n",
       "      <td>3.4976</td>\n",
       "      <td>19.765</td>\n",
       "      <td>1059.7</td>\n",
       "      <td>549.98</td>\n",
       "      <td>114.72</td>\n",
       "      <td>10.612</td>\n",
       "      <td>3.2484</td>\n",
       "      <td>82.311</td>\n",
       "    </tr>\n",
       "  </tbody>\n",
       "</table>\n",
       "</div>"
      ],
      "text/plain": [
       "       AT      AP      AH    AFDP    GTEP     TIT     TAT     TEY     CDP  \\\n",
       "0  6.8594  1007.9  96.799  3.5000  19.663  1059.2  550.00  114.70  10.605   \n",
       "1  6.7850  1008.4  97.118  3.4998  19.728  1059.3  550.00  114.72  10.598   \n",
       "2  6.8977  1008.8  95.939  3.4824  19.779  1059.4  549.87  114.71  10.601   \n",
       "3  7.0569  1009.2  95.249  3.4805  19.792  1059.6  549.99  114.72  10.606   \n",
       "4  7.3978  1009.7  95.150  3.4976  19.765  1059.7  549.98  114.72  10.612   \n",
       "\n",
       "       CO     NOX  \n",
       "0  3.1547  82.722  \n",
       "1  3.2363  82.776  \n",
       "2  3.2012  82.468  \n",
       "3  3.1923  82.670  \n",
       "4  3.2484  82.311  "
      ]
     },
     "execution_count": 3,
     "metadata": {},
     "output_type": "execute_result"
    }
   ],
   "source": [
    "data[:5]"
   ]
  },
  {
   "cell_type": "code",
   "execution_count": 4,
   "metadata": {},
   "outputs": [
    {
     "data": {
      "text/plain": [
       "(15039, 11)"
      ]
     },
     "execution_count": 4,
     "metadata": {},
     "output_type": "execute_result"
    }
   ],
   "source": [
    "data.shape"
   ]
  },
  {
   "cell_type": "code",
   "execution_count": 5,
   "metadata": {},
   "outputs": [
    {
     "data": {
      "text/plain": [
       "AT      0\n",
       "AP      0\n",
       "AH      0\n",
       "AFDP    0\n",
       "GTEP    0\n",
       "TIT     0\n",
       "TAT     0\n",
       "TEY     0\n",
       "CDP     0\n",
       "CO      0\n",
       "NOX     0\n",
       "dtype: int64"
      ]
     },
     "execution_count": 5,
     "metadata": {},
     "output_type": "execute_result"
    }
   ],
   "source": [
    "data.isnull().sum()"
   ]
  },
  {
   "cell_type": "code",
   "execution_count": 6,
   "metadata": {},
   "outputs": [
    {
     "name": "stdout",
     "output_type": "stream",
     "text": [
      "<class 'pandas.core.frame.DataFrame'>\n",
      "RangeIndex: 15039 entries, 0 to 15038\n",
      "Data columns (total 11 columns):\n",
      " #   Column  Non-Null Count  Dtype  \n",
      "---  ------  --------------  -----  \n",
      " 0   AT      15039 non-null  float64\n",
      " 1   AP      15039 non-null  float64\n",
      " 2   AH      15039 non-null  float64\n",
      " 3   AFDP    15039 non-null  float64\n",
      " 4   GTEP    15039 non-null  float64\n",
      " 5   TIT     15039 non-null  float64\n",
      " 6   TAT     15039 non-null  float64\n",
      " 7   TEY     15039 non-null  float64\n",
      " 8   CDP     15039 non-null  float64\n",
      " 9   CO      15039 non-null  float64\n",
      " 10  NOX     15039 non-null  float64\n",
      "dtypes: float64(11)\n",
      "memory usage: 1.3 MB\n"
     ]
    }
   ],
   "source": [
    "data.info()"
   ]
  },
  {
   "cell_type": "markdown",
   "metadata": {},
   "source": [
    "## Check and drop the duplicate values"
   ]
  },
  {
   "cell_type": "code",
   "execution_count": 7,
   "metadata": {},
   "outputs": [
    {
     "data": {
      "text/html": [
       "<div>\n",
       "<style scoped>\n",
       "    .dataframe tbody tr th:only-of-type {\n",
       "        vertical-align: middle;\n",
       "    }\n",
       "\n",
       "    .dataframe tbody tr th {\n",
       "        vertical-align: top;\n",
       "    }\n",
       "\n",
       "    .dataframe thead th {\n",
       "        text-align: right;\n",
       "    }\n",
       "</style>\n",
       "<table border=\"1\" class=\"dataframe\">\n",
       "  <thead>\n",
       "    <tr style=\"text-align: right;\">\n",
       "      <th></th>\n",
       "      <th>AT</th>\n",
       "      <th>AP</th>\n",
       "      <th>AH</th>\n",
       "      <th>AFDP</th>\n",
       "      <th>GTEP</th>\n",
       "      <th>TIT</th>\n",
       "      <th>TAT</th>\n",
       "      <th>TEY</th>\n",
       "      <th>CDP</th>\n",
       "      <th>CO</th>\n",
       "      <th>NOX</th>\n",
       "    </tr>\n",
       "  </thead>\n",
       "  <tbody>\n",
       "  </tbody>\n",
       "</table>\n",
       "</div>"
      ],
      "text/plain": [
       "Empty DataFrame\n",
       "Columns: [AT, AP, AH, AFDP, GTEP, TIT, TAT, TEY, CDP, CO, NOX]\n",
       "Index: []"
      ]
     },
     "execution_count": 7,
     "metadata": {},
     "output_type": "execute_result"
    }
   ],
   "source": [
    "data[data.duplicated()]"
   ]
  },
  {
   "cell_type": "markdown",
   "metadata": {},
   "source": [
    "## Check the distribution and outliers"
   ]
  },
  {
   "cell_type": "code",
   "execution_count": 8,
   "metadata": {},
   "outputs": [
    {
     "data": {
      "image/png": "[encoded data removed]",
      "text/plain": [
       "<Figure size 1080x720 with 12 Axes>"
      ]
     },
     "metadata": {
      "needs_background": "light"
     },
     "output_type": "display_data"
    }
   ],
   "source": [
    "# Visualization using distplot\n",
    "import warnings\n",
    "warnings.filterwarnings(\"ignore\")\n",
    "fig, ax = plt.subplots(4, 3, figsize=(15,10))\n",
    "sns.distplot(data.AT, ax=ax[0,0])\n",
    "sns.distplot(data.AP, ax=ax[0,1])\n",
    "sns.distplot(data.AH, ax=ax[0,2])\n",
    "sns.distplot(data.AFDP, ax=ax[1,0])\n",
    "sns.distplot(data.GTEP, ax=ax[1,1])\n",
    "sns.distplot(data.TIT, ax=ax[1,2])\n",
    "sns.distplot(data.TAT, ax=ax[2,0])\n",
    "sns.distplot(data.TEY, ax=ax[2,1])\n",
    "sns.distplot(data.CDP, ax=ax[2,2])\n",
    "sns.distplot(data.CO, ax=ax[3,0])\n",
    "sns.distplot(data.NOX, ax=ax[3,1])\n",
    "\n",
    "plt.tight_layout()\n",
    "plt.show()"
   ]
  },
  {
   "cell_type": "code",
   "execution_count": 9,
   "metadata": {},
   "outputs": [
    {
     "data": {
      "image/png": "[encoded data removed]",
      "text/plain": [
       "<Figure size 1080x720 with 12 Axes>"
      ]
     },
     "metadata": {
      "needs_background": "light"
     },
     "output_type": "display_data"
    }
   ],
   "source": [
    "# Checking of outliers\n",
    "fig, ax = plt.subplots(4, 3, figsize=(15,10))\n",
    "sns.boxplot(data.AT, ax=ax[0,0])\n",
    "sns.boxplot(data.AP, ax=ax[0,1])\n",
    "sns.boxplot(data.AH, ax=ax[0,2])\n",
    "sns.boxplot(data.AFDP, ax=ax[1,0])\n",
    "sns.boxplot(data.GTEP, ax=ax[1,1])\n",
    "sns.boxplot(data.TIT, ax=ax[1,2])\n",
    "sns.boxplot(data.TAT, ax=ax[2,0])\n",
    "sns.boxplot(data.TEY, ax=ax[2,1])\n",
    "sns.boxplot(data.CDP, ax=ax[2,2])\n",
    "sns.boxplot(data.CO, ax=ax[3,0])\n",
    "sns.boxplot(data.NOX, ax=ax[3,1])\n",
    "\n",
    "plt.tight_layout()\n",
    "plt.show()"
   ]
  },
  {
   "cell_type": "code",
   "execution_count": 13,
   "metadata": {},
   "outputs": [
    {
     "data": {
      "text/html": [
       "<div>\n",
       "<style scoped>\n",
       "    .dataframe tbody tr th:only-of-type {\n",
       "        vertical-align: middle;\n",
       "    }\n",
       "\n",
       "    .dataframe tbody tr th {\n",
       "        vertical-align: top;\n",
       "    }\n",
       "\n",
       "    .dataframe thead th {\n",
       "        text-align: right;\n",
       "    }\n",
       "</style>\n",
       "<table border=\"1\" class=\"dataframe\">\n",
       "  <thead>\n",
       "    <tr style=\"text-align: right;\">\n",
       "      <th></th>\n",
       "      <th>AT</th>\n",
       "      <th>AP</th>\n",
       "      <th>AH</th>\n",
       "      <th>AFDP</th>\n",
       "      <th>GTEP</th>\n",
       "      <th>TIT</th>\n",
       "      <th>TAT</th>\n",
       "      <th>TEY</th>\n",
       "      <th>CDP</th>\n",
       "      <th>CO</th>\n",
       "      <th>NOX</th>\n",
       "    </tr>\n",
       "  </thead>\n",
       "  <tbody>\n",
       "    <tr>\n",
       "      <th>0</th>\n",
       "      <td>0.184182</td>\n",
       "      <td>0.456050</td>\n",
       "      <td>0.951314</td>\n",
       "      <td>0.255758</td>\n",
       "      <td>0.091426</td>\n",
       "      <td>0.584</td>\n",
       "      <td>0.984015</td>\n",
       "      <td>0.195191</td>\n",
       "      <td>0.135340</td>\n",
       "      <td>0.071522</td>\n",
       "      <td>0.596548</td>\n",
       "    </tr>\n",
       "    <tr>\n",
       "      <th>1</th>\n",
       "      <td>0.182020</td>\n",
       "      <td>0.466391</td>\n",
       "      <td>0.955881</td>\n",
       "      <td>0.255721</td>\n",
       "      <td>0.094755</td>\n",
       "      <td>0.585</td>\n",
       "      <td>0.984015</td>\n",
       "      <td>0.195459</td>\n",
       "      <td>0.133988</td>\n",
       "      <td>0.073372</td>\n",
       "      <td>0.597134</td>\n",
       "    </tr>\n",
       "    <tr>\n",
       "      <th>2</th>\n",
       "      <td>0.185295</td>\n",
       "      <td>0.474664</td>\n",
       "      <td>0.939003</td>\n",
       "      <td>0.252571</td>\n",
       "      <td>0.097367</td>\n",
       "      <td>0.586</td>\n",
       "      <td>0.980608</td>\n",
       "      <td>0.195325</td>\n",
       "      <td>0.134567</td>\n",
       "      <td>0.072576</td>\n",
       "      <td>0.593791</td>\n",
       "    </tr>\n",
       "    <tr>\n",
       "      <th>3</th>\n",
       "      <td>0.189922</td>\n",
       "      <td>0.482937</td>\n",
       "      <td>0.929126</td>\n",
       "      <td>0.252227</td>\n",
       "      <td>0.098033</td>\n",
       "      <td>0.588</td>\n",
       "      <td>0.983753</td>\n",
       "      <td>0.195459</td>\n",
       "      <td>0.135533</td>\n",
       "      <td>0.072375</td>\n",
       "      <td>0.595984</td>\n",
       "    </tr>\n",
       "    <tr>\n",
       "      <th>4</th>\n",
       "      <td>0.199830</td>\n",
       "      <td>0.493278</td>\n",
       "      <td>0.927708</td>\n",
       "      <td>0.255323</td>\n",
       "      <td>0.096650</td>\n",
       "      <td>0.589</td>\n",
       "      <td>0.983491</td>\n",
       "      <td>0.195459</td>\n",
       "      <td>0.136692</td>\n",
       "      <td>0.073647</td>\n",
       "      <td>0.592087</td>\n",
       "    </tr>\n",
       "    <tr>\n",
       "      <th>...</th>\n",
       "      <td>...</td>\n",
       "      <td>...</td>\n",
       "      <td>...</td>\n",
       "      <td>...</td>\n",
       "      <td>...</td>\n",
       "      <td>...</td>\n",
       "      <td>...</td>\n",
       "      <td>...</td>\n",
       "      <td>...</td>\n",
       "      <td>...</td>\n",
       "      <td>...</td>\n",
       "    </tr>\n",
       "    <tr>\n",
       "      <th>15034</th>\n",
       "      <td>0.247272</td>\n",
       "      <td>0.408480</td>\n",
       "      <td>0.975092</td>\n",
       "      <td>0.263380</td>\n",
       "      <td>0.065868</td>\n",
       "      <td>0.489</td>\n",
       "      <td>0.884696</td>\n",
       "      <td>0.153681</td>\n",
       "      <td>0.095739</td>\n",
       "      <td>0.102448</td>\n",
       "      <td>0.562214</td>\n",
       "    </tr>\n",
       "    <tr>\n",
       "      <th>15035</th>\n",
       "      <td>0.214075</td>\n",
       "      <td>0.414685</td>\n",
       "      <td>0.984153</td>\n",
       "      <td>0.256826</td>\n",
       "      <td>0.078672</td>\n",
       "      <td>0.455</td>\n",
       "      <td>0.806342</td>\n",
       "      <td>0.155965</td>\n",
       "      <td>0.102113</td>\n",
       "      <td>0.109894</td>\n",
       "      <td>0.566100</td>\n",
       "    </tr>\n",
       "    <tr>\n",
       "      <th>15036</th>\n",
       "      <td>0.195962</td>\n",
       "      <td>0.422958</td>\n",
       "      <td>0.989922</td>\n",
       "      <td>0.251593</td>\n",
       "      <td>0.084614</td>\n",
       "      <td>0.369</td>\n",
       "      <td>0.651730</td>\n",
       "      <td>0.134605</td>\n",
       "      <td>0.111772</td>\n",
       "      <td>0.180552</td>\n",
       "      <td>0.685449</td>\n",
       "    </tr>\n",
       "    <tr>\n",
       "      <th>15037</th>\n",
       "      <td>0.188443</td>\n",
       "      <td>0.433299</td>\n",
       "      <td>0.982936</td>\n",
       "      <td>0.246451</td>\n",
       "      <td>0.076777</td>\n",
       "      <td>0.424</td>\n",
       "      <td>0.754455</td>\n",
       "      <td>0.141994</td>\n",
       "      <td>0.121431</td>\n",
       "      <td>0.141693</td>\n",
       "      <td>0.710578</td>\n",
       "    </tr>\n",
       "    <tr>\n",
       "      <th>15038</th>\n",
       "      <td>0.186173</td>\n",
       "      <td>0.441572</td>\n",
       "      <td>0.961821</td>\n",
       "      <td>0.242631</td>\n",
       "      <td>0.073141</td>\n",
       "      <td>0.491</td>\n",
       "      <td>0.875262</td>\n",
       "      <td>0.153278</td>\n",
       "      <td>0.131090</td>\n",
       "      <td>0.112946</td>\n",
       "      <td>0.702665</td>\n",
       "    </tr>\n",
       "  </tbody>\n",
       "</table>\n",
       "<p>15039 rows × 11 columns</p>\n",
       "</div>"
      ],
      "text/plain": [
       "             AT        AP        AH      AFDP      GTEP    TIT       TAT  \\\n",
       "0      0.184182  0.456050  0.951314  0.255758  0.091426  0.584  0.984015   \n",
       "1      0.182020  0.466391  0.955881  0.255721  0.094755  0.585  0.984015   \n",
       "2      0.185295  0.474664  0.939003  0.252571  0.097367  0.586  0.980608   \n",
       "3      0.189922  0.482937  0.929126  0.252227  0.098033  0.588  0.983753   \n",
       "4      0.199830  0.493278  0.927708  0.255323  0.096650  0.589  0.983491   \n",
       "...         ...       ...       ...       ...       ...    ...       ...   \n",
       "15034  0.247272  0.408480  0.975092  0.263380  0.065868  0.489  0.884696   \n",
       "15035  0.214075  0.414685  0.984153  0.256826  0.078672  0.455  0.806342   \n",
       "15036  0.195962  0.422958  0.989922  0.251593  0.084614  0.369  0.651730   \n",
       "15037  0.188443  0.433299  0.982936  0.246451  0.076777  0.424  0.754455   \n",
       "15038  0.186173  0.441572  0.961821  0.242631  0.073141  0.491  0.875262   \n",
       "\n",
       "            TEY       CDP        CO       NOX  \n",
       "0      0.195191  0.135340  0.071522  0.596548  \n",
       "1      0.195459  0.133988  0.073372  0.597134  \n",
       "2      0.195325  0.134567  0.072576  0.593791  \n",
       "3      0.195459  0.135533  0.072375  0.595984  \n",
       "4      0.195459  0.136692  0.073647  0.592087  \n",
       "...         ...       ...       ...       ...  \n",
       "15034  0.153681  0.095739  0.102448  0.562214  \n",
       "15035  0.155965  0.102113  0.109894  0.566100  \n",
       "15036  0.134605  0.111772  0.180552  0.685449  \n",
       "15037  0.141994  0.121431  0.141693  0.710578  \n",
       "15038  0.153278  0.131090  0.112946  0.702665  \n",
       "\n",
       "[15039 rows x 11 columns]"
      ]
     },
     "execution_count": 13,
     "metadata": {},
     "output_type": "execute_result"
    }
   ],
   "source": [
    "from sklearn.preprocessing import MinMaxScaler\n",
    "scale=MinMaxScaler()\n",
    "data1=pd.DataFrame(scale.fit_transform(data),columns=['AT','AP','AH','AFDP','GTEP','TIT','TAT','TEY','CDP','CO','NOX'])\n",
    "data1"
   ]
  },
  {
   "cell_type": "markdown",
   "metadata": {},
   "source": [
    "### Extracting the independent and dependent variables"
   ]
  },
  {
   "cell_type": "code",
   "execution_count": 14,
   "metadata": {},
   "outputs": [],
   "source": [
    "X = data1.drop(axis=0,columns=\"TEY\").values\n",
    "Y = data1[\"TEY\"].values"
   ]
  },
  {
   "cell_type": "code",
   "execution_count": 15,
   "metadata": {},
   "outputs": [
    {
     "data": {
      "text/plain": [
       "array([[0.18418215, 0.45604964, 0.95131413, ..., 0.1353398 , 0.07152212,\n",
       "        0.59654817],\n",
       "       [0.18201978, 0.4663909 , 0.95588067, ..., 0.13398756, 0.07337235,\n",
       "        0.59713433],\n",
       "       [0.18529531, 0.47466391, 0.93900309, ..., 0.13456709, 0.07257648,\n",
       "        0.59379104],\n",
       "       ...,\n",
       "       [0.19596183, 0.4229576 , 0.98992213, ..., 0.11177221, 0.18055195,\n",
       "        0.68544912],\n",
       "       [0.18844295, 0.43329886, 0.98293633, ..., 0.12143106, 0.14169257,\n",
       "        0.71057802],\n",
       "       [0.18617304, 0.44157187, 0.96182146, ..., 0.1310899 , 0.11294597,\n",
       "        0.70266486]])"
      ]
     },
     "execution_count": 15,
     "metadata": {},
     "output_type": "execute_result"
    }
   ],
   "source": [
    "X"
   ]
  },
  {
   "cell_type": "code",
   "execution_count": 16,
   "metadata": {},
   "outputs": [
    {
     "data": {
      "text/plain": [
       "array([0.19519076, 0.19545943, 0.19532509, ..., 0.13460505, 0.14199355,\n",
       "       0.15327781])"
      ]
     },
     "execution_count": 16,
     "metadata": {},
     "output_type": "execute_result"
    }
   ],
   "source": [
    "Y"
   ]
  },
  {
   "cell_type": "code",
   "execution_count": null,
   "metadata": {},
   "outputs": [],
   "source": []
  },
  {
   "cell_type": "code",
   "execution_count": 17,
   "metadata": {},
   "outputs": [],
   "source": [
    "# fix random seed for reproducibility\n",
    "seed = 7\n",
    "np.random.seed(seed)"
   ]
  },
  {
   "cell_type": "code",
   "execution_count": 18,
   "metadata": {},
   "outputs": [],
   "source": [
    "# create model\n",
    "model = Sequential()\n",
    "model.add(Dense(12, input_dim=10, kernel_initializer='uniform', activation='relu'))\n",
    "model.add(Dense(8, kernel_initializer='uniform', activation='relu'))\n",
    "model.add(Dense(1, kernel_initializer='uniform', activation='sigmoid'))"
   ]
  },
  {
   "cell_type": "code",
   "execution_count": 19,
   "metadata": {},
   "outputs": [],
   "source": [
    "# Compile model\n",
    "model.compile(loss='mse', optimizer='adam', metrics=['accuracy'])"
   ]
  },
  {
   "cell_type": "code",
   "execution_count": 20,
   "metadata": {},
   "outputs": [
    {
     "name": "stdout",
     "output_type": "stream",
     "text": [
      "Epoch 1/100\n",
      "1008/1008 [==============================] - 2s 2ms/step - loss: 0.0233 - accuracy: 4.5867e-05 - val_loss: 3.7620e-04 - val_accuracy: 2.0149e-04\n",
      "Epoch 2/100\n",
      "1008/1008 [==============================] - 1s 934us/step - loss: 3.0976e-04 - accuracy: 1.2552e-04 - val_loss: 2.9068e-04 - val_accuracy: 2.0149e-04\n",
      "Epoch 3/100\n",
      "1008/1008 [==============================] - 3s 3ms/step - loss: 2.6352e-04 - accuracy: 1.2345e-04 - val_loss: 2.9857e-04 - val_accuracy: 2.0149e-04\n",
      "Epoch 4/100\n",
      "1008/1008 [==============================] - 3s 3ms/step - loss: 2.3746e-04 - accuracy: 1.8797e-04 - val_loss: 1.9033e-04 - val_accuracy: 2.0149e-04\n",
      "Epoch 5/100\n",
      "1008/1008 [==============================] - 3s 3ms/step - loss: 2.1896e-04 - accuracy: 3.5230e-05 - val_loss: 2.0040e-04 - val_accuracy: 2.0149e-04\n",
      "Epoch 6/100\n",
      "1008/1008 [==============================] - 3s 3ms/step - loss: 2.1437e-04 - accuracy: 2.1066e-04 - val_loss: 1.7425e-04 - val_accuracy: 2.0149e-04\n",
      "Epoch 7/100\n",
      "1008/1008 [==============================] - 4s 4ms/step - loss: 1.9977e-04 - accuracy: 1.9198e-04 - val_loss: 2.0276e-04 - val_accuracy: 2.0149e-04\n",
      "Epoch 8/100\n",
      "1008/1008 [==============================] - 1s 1ms/step - loss: 2.0656e-04 - accuracy: 4.3708e-05 - val_loss: 1.8654e-04 - val_accuracy: 2.0149e-04\n",
      "Epoch 9/100\n",
      "1008/1008 [==============================] - 1s 779us/step - loss: 2.0066e-04 - accuracy: 1.1309e-04 - val_loss: 1.8604e-04 - val_accuracy: 2.0149e-04\n",
      "Epoch 10/100\n",
      "1008/1008 [==============================] - 1s 767us/step - loss: 1.8833e-04 - accuracy: 1.2870e-04 - val_loss: 1.5942e-04 - val_accuracy: 2.0149e-04\n",
      "Epoch 11/100\n",
      "1008/1008 [==============================] - 1s 804us/step - loss: 1.9950e-04 - accuracy: 2.0125e-04 - val_loss: 1.8075e-04 - val_accuracy: 2.0149e-04\n",
      "Epoch 12/100\n",
      "1008/1008 [==============================] - 1s 779us/step - loss: 1.8425e-04 - accuracy: 1.2765e-05 - val_loss: 1.6953e-04 - val_accuracy: 2.0149e-04\n",
      "Epoch 13/100\n",
      "1008/1008 [==============================] - 1s 765us/step - loss: 1.7965e-04 - accuracy: 3.3426e-05 - val_loss: 1.5331e-04 - val_accuracy: 2.0149e-04\n",
      "Epoch 14/100\n",
      "1008/1008 [==============================] - 1s 789us/step - loss: 1.8783e-04 - accuracy: 5.9687e-06 - val_loss: 1.9724e-04 - val_accuracy: 2.0149e-04\n",
      "Epoch 15/100\n",
      "1008/1008 [==============================] - 1s 813us/step - loss: 1.8501e-04 - accuracy: 1.3663e-05 - val_loss: 1.4387e-04 - val_accuracy: 2.0149e-04\n",
      "Epoch 16/100\n",
      "1008/1008 [==============================] - 1s 766us/step - loss: 1.8771e-04 - accuracy: 1.3540e-04 - val_loss: 1.6023e-04 - val_accuracy: 2.0149e-04\n",
      "Epoch 17/100\n",
      "1008/1008 [==============================] - 1s 785us/step - loss: 1.8216e-04 - accuracy: 1.0260e-04 - val_loss: 1.6182e-04 - val_accuracy: 2.0149e-04\n",
      "Epoch 18/100\n",
      "1008/1008 [==============================] - 1s 786us/step - loss: 1.8410e-04 - accuracy: 5.9918e-05 - val_loss: 1.9387e-04 - val_accuracy: 2.0149e-04\n",
      "Epoch 19/100\n",
      "1008/1008 [==============================] - 1s 780us/step - loss: 1.7507e-04 - accuracy: 1.7805e-05 - val_loss: 1.6428e-04 - val_accuracy: 2.0149e-04\n",
      "Epoch 20/100\n",
      "1008/1008 [==============================] - 1s 789us/step - loss: 1.8816e-04 - accuracy: 9.4385e-05 - val_loss: 1.7505e-04 - val_accuracy: 2.0149e-04\n",
      "Epoch 21/100\n",
      "1008/1008 [==============================] - 1s 764us/step - loss: 1.7764e-04 - accuracy: 4.2344e-05 - val_loss: 1.6928e-04 - val_accuracy: 2.0149e-04\n",
      "Epoch 22/100\n",
      "1008/1008 [==============================] - 1s 780us/step - loss: 1.7276e-04 - accuracy: 1.6020e-04 - val_loss: 1.5375e-04 - val_accuracy: 2.0149e-04\n",
      "Epoch 23/100\n",
      "1008/1008 [==============================] - 1s 784us/step - loss: 1.7654e-04 - accuracy: 1.6220e-04 - val_loss: 1.4709e-04 - val_accuracy: 2.0149e-04\n",
      "Epoch 24/100\n",
      "1008/1008 [==============================] - 1s 784us/step - loss: 1.9065e-04 - accuracy: 5.8668e-05 - val_loss: 1.5382e-04 - val_accuracy: 2.0149e-04\n",
      "Epoch 25/100\n",
      "1008/1008 [==============================] - 1s 767us/step - loss: 1.7278e-04 - accuracy: 2.7415e-04 - val_loss: 1.4130e-04 - val_accuracy: 2.0149e-04\n",
      "Epoch 26/100\n",
      "1008/1008 [==============================] - 1s 779us/step - loss: 1.7934e-04 - accuracy: 1.1007e-04 - val_loss: 1.4961e-04 - val_accuracy: 2.0149e-04\n",
      "Epoch 27/100\n",
      "1008/1008 [==============================] - 1s 785us/step - loss: 1.8054e-04 - accuracy: 1.3813e-04 - val_loss: 1.5237e-04 - val_accuracy: 2.0149e-04\n",
      "Epoch 28/100\n",
      "1008/1008 [==============================] - 1s 796us/step - loss: 1.7727e-04 - accuracy: 2.4488e-05 - val_loss: 1.5508e-04 - val_accuracy: 2.0149e-04\n",
      "Epoch 29/100\n",
      "1008/1008 [==============================] - 1s 785us/step - loss: 1.6960e-04 - accuracy: 5.2477e-05 - val_loss: 1.2963e-04 - val_accuracy: 2.0149e-04\n",
      "Epoch 30/100\n",
      "1008/1008 [==============================] - 1s 766us/step - loss: 1.8288e-04 - accuracy: 3.7784e-05 - val_loss: 1.6541e-04 - val_accuracy: 2.0149e-04\n",
      "Epoch 31/100\n",
      "1008/1008 [==============================] - 1s 787us/step - loss: 1.8842e-04 - accuracy: 1.2877e-05 - val_loss: 1.3637e-04 - val_accuracy: 2.0149e-04\n",
      "Epoch 32/100\n",
      "1008/1008 [==============================] - 1s 777us/step - loss: 1.7620e-04 - accuracy: 4.6965e-05 - val_loss: 1.4110e-04 - val_accuracy: 2.0149e-04\n",
      "Epoch 33/100\n",
      "1008/1008 [==============================] - 1s 799us/step - loss: 1.7899e-04 - accuracy: 3.4053e-04 - val_loss: 1.5102e-04 - val_accuracy: 2.0149e-04\n",
      "Epoch 34/100\n",
      "1008/1008 [==============================] - 1s 871us/step - loss: 1.8174e-04 - accuracy: 1.5827e-05 - val_loss: 1.5684e-04 - val_accuracy: 2.0149e-04\n",
      "Epoch 35/100\n",
      "1008/1008 [==============================] - 1s 784us/step - loss: 1.8585e-04 - accuracy: 1.6372e-04 - val_loss: 1.5045e-04 - val_accuracy: 2.0149e-04\n",
      "Epoch 36/100\n",
      "1008/1008 [==============================] - 1s 807us/step - loss: 1.7016e-04 - accuracy: 1.4811e-04 - val_loss: 1.4317e-04 - val_accuracy: 2.0149e-04\n",
      "Epoch 37/100\n",
      "1008/1008 [==============================] - 1s 828us/step - loss: 1.7045e-04 - accuracy: 4.2118e-06 - val_loss: 1.6763e-04 - val_accuracy: 2.0149e-04\n",
      "Epoch 38/100\n",
      "1008/1008 [==============================] - 1s 789us/step - loss: 1.8059e-04 - accuracy: 7.3576e-05 - val_loss: 1.4356e-04 - val_accuracy: 2.0149e-04\n",
      "Epoch 39/100\n",
      "1008/1008 [==============================] - 1s 778us/step - loss: 1.8066e-04 - accuracy: 1.4115e-05 - val_loss: 2.0384e-04 - val_accuracy: 2.0149e-04\n",
      "Epoch 40/100\n",
      "1008/1008 [==============================] - 1s 805us/step - loss: 1.9092e-04 - accuracy: 7.5031e-05 - val_loss: 1.7699e-04 - val_accuracy: 2.0149e-04\n",
      "Epoch 41/100\n",
      "1008/1008 [==============================] - 1s 790us/step - loss: 1.7019e-04 - accuracy: 1.1545e-05 - val_loss: 1.5283e-04 - val_accuracy: 2.0149e-04\n",
      "Epoch 42/100\n",
      "1008/1008 [==============================] - 1s 808us/step - loss: 1.7659e-04 - accuracy: 4.3403e-05 - val_loss: 1.8244e-04 - val_accuracy: 2.0149e-04\n",
      "Epoch 43/100\n",
      "1008/1008 [==============================] - 1s 791us/step - loss: 1.8216e-04 - accuracy: 3.3014e-05 - val_loss: 1.5183e-04 - val_accuracy: 2.0149e-04\n",
      "Epoch 44/100\n",
      "1008/1008 [==============================] - 1s 782us/step - loss: 1.7871e-04 - accuracy: 2.5880e-05 - val_loss: 2.1148e-04 - val_accuracy: 2.0149e-04\n",
      "Epoch 45/100\n",
      "1008/1008 [==============================] - 1s 783us/step - loss: 1.7656e-04 - accuracy: 1.8603e-04 - val_loss: 1.7207e-04 - val_accuracy: 2.0149e-04\n",
      "Epoch 46/100\n",
      "1008/1008 [==============================] - 1s 781us/step - loss: 1.7679e-04 - accuracy: 6.6224e-05 - val_loss: 1.6592e-04 - val_accuracy: 2.0149e-04\n",
      "Epoch 47/100\n",
      "1008/1008 [==============================] - 1s 782us/step - loss: 1.7791e-04 - accuracy: 7.5240e-05 - val_loss: 1.5017e-04 - val_accuracy: 2.0149e-04\n",
      "Epoch 48/100\n",
      "1008/1008 [==============================] - 1s 786us/step - loss: 1.7545e-04 - accuracy: 3.5090e-05 - val_loss: 1.9672e-04 - val_accuracy: 2.0149e-04\n",
      "Epoch 49/100\n",
      "1008/1008 [==============================] - 1s 774us/step - loss: 1.7557e-04 - accuracy: 1.1977e-04 - val_loss: 1.8648e-04 - val_accuracy: 2.0149e-04\n",
      "Epoch 50/100\n",
      "1008/1008 [==============================] - 1s 778us/step - loss: 1.7609e-04 - accuracy: 1.0015e-04 - val_loss: 1.5624e-04 - val_accuracy: 2.0149e-04\n",
      "Epoch 51/100\n",
      "1008/1008 [==============================] - 1s 773us/step - loss: 1.7727e-04 - accuracy: 4.2494e-05 - val_loss: 1.3862e-04 - val_accuracy: 2.0149e-04\n",
      "Epoch 52/100\n",
      "1008/1008 [==============================] - 1s 787us/step - loss: 1.8624e-04 - accuracy: 4.8876e-05 - val_loss: 1.6179e-04 - val_accuracy: 2.0149e-04\n",
      "Epoch 53/100\n",
      "1008/1008 [==============================] - 1s 798us/step - loss: 1.7799e-04 - accuracy: 2.1316e-04 - val_loss: 1.6045e-04 - val_accuracy: 2.0149e-04\n",
      "Epoch 54/100\n",
      "1008/1008 [==============================] - 1s 816us/step - loss: 1.7385e-04 - accuracy: 1.3387e-04 - val_loss: 1.4431e-04 - val_accuracy: 2.0149e-04\n",
      "Epoch 55/100\n",
      "1008/1008 [==============================] - 1s 778us/step - loss: 1.6863e-04 - accuracy: 4.3860e-05 - val_loss: 1.4033e-04 - val_accuracy: 2.0149e-04\n",
      "Epoch 56/100\n",
      "1008/1008 [==============================] - 1s 780us/step - loss: 1.7571e-04 - accuracy: 1.5776e-04 - val_loss: 1.4134e-04 - val_accuracy: 2.0149e-04\n",
      "Epoch 57/100\n",
      "1008/1008 [==============================] - 1s 795us/step - loss: 1.7385e-04 - accuracy: 3.6783e-05 - val_loss: 1.5652e-04 - val_accuracy: 2.0149e-04\n",
      "Epoch 58/100\n",
      "1008/1008 [==============================] - 1s 797us/step - loss: 1.7922e-04 - accuracy: 1.2622e-04 - val_loss: 1.4976e-04 - val_accuracy: 2.0149e-04\n",
      "Epoch 59/100\n",
      "1008/1008 [==============================] - 1s 780us/step - loss: 1.7336e-04 - accuracy: 1.1545e-05 - val_loss: 2.3791e-04 - val_accuracy: 2.0149e-04\n",
      "Epoch 60/100\n",
      "1008/1008 [==============================] - 1s 784us/step - loss: 1.7452e-04 - accuracy: 2.7415e-04 - val_loss: 1.4106e-04 - val_accuracy: 2.0149e-04\n",
      "Epoch 61/100\n",
      "1008/1008 [==============================] - 1s 801us/step - loss: 1.7076e-04 - accuracy: 1.0456e-04 - val_loss: 1.4431e-04 - val_accuracy: 2.0149e-04\n",
      "Epoch 62/100\n",
      "1008/1008 [==============================] - 1s 783us/step - loss: 1.7365e-04 - accuracy: 2.2865e-04 - val_loss: 1.8383e-04 - val_accuracy: 2.0149e-04\n",
      "Epoch 63/100\n",
      "1008/1008 [==============================] - 1s 779us/step - loss: 1.7420e-04 - accuracy: 6.1366e-05 - val_loss: 1.5097e-04 - val_accuracy: 2.0149e-04\n",
      "Epoch 64/100\n",
      "1008/1008 [==============================] - 1s 777us/step - loss: 1.7719e-04 - accuracy: 1.0428e-04 - val_loss: 1.4073e-04 - val_accuracy: 2.0149e-04\n",
      "Epoch 65/100\n",
      "1008/1008 [==============================] - 1s 801us/step - loss: 1.6896e-04 - accuracy: 4.7281e-05 - val_loss: 1.5753e-04 - val_accuracy: 2.0149e-04\n",
      "Epoch 66/100\n",
      "1008/1008 [==============================] - 1s 782us/step - loss: 1.7757e-04 - accuracy: 1.9943e-05 - val_loss: 1.5481e-04 - val_accuracy: 2.0149e-04\n",
      "Epoch 67/100\n",
      "1008/1008 [==============================] - 1s 789us/step - loss: 1.7028e-04 - accuracy: 1.7861e-04 - val_loss: 1.3257e-04 - val_accuracy: 2.0149e-04\n",
      "Epoch 68/100\n",
      "1008/1008 [==============================] - 1s 791us/step - loss: 1.7941e-04 - accuracy: 1.2799e-04 - val_loss: 1.7833e-04 - val_accuracy: 2.0149e-04\n",
      "Epoch 69/100\n",
      "1008/1008 [==============================] - 1s 792us/step - loss: 1.7201e-04 - accuracy: 4.3251e-05 - val_loss: 1.5160e-04 - val_accuracy: 2.0149e-04\n",
      "Epoch 70/100\n",
      "1008/1008 [==============================] - 1s 783us/step - loss: 1.8084e-04 - accuracy: 9.1472e-06 - val_loss: 1.4725e-04 - val_accuracy: 2.0149e-04\n",
      "Epoch 71/100\n",
      "1008/1008 [==============================] - 1s 794us/step - loss: 1.6862e-04 - accuracy: 7.9090e-05 - val_loss: 1.4116e-04 - val_accuracy: 2.0149e-04\n",
      "Epoch 72/100\n",
      "1008/1008 [==============================] - 1s 776us/step - loss: 1.7552e-04 - accuracy: 1.2176e-04 - val_loss: 1.3647e-04 - val_accuracy: 2.0149e-04\n",
      "Epoch 73/100\n",
      "1008/1008 [==============================] - 1s 786us/step - loss: 1.7271e-04 - accuracy: 8.7505e-05 - val_loss: 1.4081e-04 - val_accuracy: 2.0149e-04\n",
      "Epoch 74/100\n",
      "1008/1008 [==============================] - 1s 795us/step - loss: 1.7648e-04 - accuracy: 1.1944e-04 - val_loss: 1.4603e-04 - val_accuracy: 2.0149e-04\n",
      "Epoch 75/100\n",
      "1008/1008 [==============================] - 1s 794us/step - loss: 1.7321e-04 - accuracy: 1.5970e-04 - val_loss: 1.5493e-04 - val_accuracy: 2.0149e-04\n",
      "Epoch 76/100\n",
      "1008/1008 [==============================] - 1s 854us/step - loss: 1.6661e-04 - accuracy: 4.6336e-05 - val_loss: 1.6067e-04 - val_accuracy: 2.0149e-04\n",
      "Epoch 77/100\n",
      "1008/1008 [==============================] - 1s 783us/step - loss: 1.7821e-04 - accuracy: 1.7861e-04 - val_loss: 1.2999e-04 - val_accuracy: 2.0149e-04\n",
      "Epoch 78/100\n",
      "1008/1008 [==============================] - 1s 811us/step - loss: 1.7619e-04 - accuracy: 5.6909e-05 - val_loss: 1.4745e-04 - val_accuracy: 2.0149e-04\n",
      "Epoch 79/100\n",
      "1008/1008 [==============================] - 1s 791us/step - loss: 1.6950e-04 - accuracy: 2.3165e-04 - val_loss: 1.3902e-04 - val_accuracy: 2.0149e-04\n",
      "Epoch 80/100\n",
      "1008/1008 [==============================] - 1s 784us/step - loss: 1.7345e-04 - accuracy: 3.1519e-05 - val_loss: 1.5443e-04 - val_accuracy: 2.0149e-04\n",
      "Epoch 81/100\n",
      "1008/1008 [==============================] - 1s 788us/step - loss: 1.7251e-04 - accuracy: 9.9342e-05 - val_loss: 1.6055e-04 - val_accuracy: 2.0149e-04\n",
      "Epoch 82/100\n",
      "1008/1008 [==============================] - 1s 782us/step - loss: 1.7210e-04 - accuracy: 8.6325e-05 - val_loss: 1.6154e-04 - val_accuracy: 2.0149e-04\n",
      "Epoch 83/100\n",
      "1008/1008 [==============================] - 1s 805us/step - loss: 1.6540e-04 - accuracy: 4.5711e-05 - val_loss: 1.5207e-04 - val_accuracy: 2.0149e-04\n",
      "Epoch 84/100\n",
      "1008/1008 [==============================] - 1s 782us/step - loss: 1.8191e-04 - accuracy: 1.0121e-05 - val_loss: 1.7918e-04 - val_accuracy: 2.0149e-04\n",
      "Epoch 85/100\n",
      "1008/1008 [==============================] - 1s 786us/step - loss: 1.7316e-04 - accuracy: 1.5444e-04 - val_loss: 1.3456e-04 - val_accuracy: 2.0149e-04\n",
      "Epoch 86/100\n",
      "1008/1008 [==============================] - 1s 794us/step - loss: 1.6052e-04 - accuracy: 3.7928e-05 - val_loss: 1.4168e-04 - val_accuracy: 2.0149e-04\n",
      "Epoch 87/100\n",
      "1008/1008 [==============================] - 1s 787us/step - loss: 1.7281e-04 - accuracy: 1.4002e-05 - val_loss: 1.5305e-04 - val_accuracy: 2.0149e-04\n",
      "Epoch 88/100\n",
      "1008/1008 [==============================] - 1s 795us/step - loss: 1.6517e-04 - accuracy: 9.5666e-05 - val_loss: 1.5634e-04 - val_accuracy: 2.0149e-04\n",
      "Epoch 89/100\n",
      "1008/1008 [==============================] - 1s 786us/step - loss: 1.8169e-04 - accuracy: 3.8619e-04 - val_loss: 1.4032e-04 - val_accuracy: 2.0149e-04\n",
      "Epoch 90/100\n",
      "1008/1008 [==============================] - 1s 798us/step - loss: 1.6499e-04 - accuracy: 1.8412e-04 - val_loss: 1.5707e-04 - val_accuracy: 2.0149e-04\n",
      "Epoch 91/100\n",
      "1008/1008 [==============================] - 1s 788us/step - loss: 1.7223e-04 - accuracy: 6.5963e-06 - val_loss: 1.4319e-04 - val_accuracy: 2.0149e-04\n",
      "Epoch 92/100\n",
      "1008/1008 [==============================] - 1s 791us/step - loss: 1.7970e-04 - accuracy: 1.5597e-05 - val_loss: 1.5134e-04 - val_accuracy: 2.0149e-04\n",
      "Epoch 93/100\n",
      "1008/1008 [==============================] - 1s 778us/step - loss: 1.8201e-04 - accuracy: 1.6869e-05 - val_loss: 1.4438e-04 - val_accuracy: 2.0149e-04\n",
      "Epoch 94/100\n",
      "1008/1008 [==============================] - 1s 796us/step - loss: 1.7554e-04 - accuracy: 5.1482e-05 - val_loss: 1.4373e-04 - val_accuracy: 2.0149e-04\n",
      "Epoch 95/100\n",
      "1008/1008 [==============================] - 1s 805us/step - loss: 1.8302e-04 - accuracy: 1.6986e-05 - val_loss: 1.3181e-04 - val_accuracy: 2.0149e-04\n",
      "Epoch 96/100\n",
      "1008/1008 [==============================] - 1s 865us/step - loss: 1.7498e-04 - accuracy: 1.2109e-04 - val_loss: 1.6198e-04 - val_accuracy: 2.0149e-04\n",
      "Epoch 97/100\n",
      "1008/1008 [==============================] - 1s 789us/step - loss: 1.8190e-04 - accuracy: 6.3765e-05 - val_loss: 1.4804e-04 - val_accuracy: 2.0149e-04\n",
      "Epoch 98/100\n",
      "1008/1008 [==============================] - 1s 778us/step - loss: 1.7744e-04 - accuracy: 2.8890e-06 - val_loss: 1.8354e-04 - val_accuracy: 2.0149e-04\n",
      "Epoch 99/100\n",
      "1008/1008 [==============================] - 1s 796us/step - loss: 1.7873e-04 - accuracy: 1.3052e-04 - val_loss: 1.5803e-04 - val_accuracy: 2.0149e-04\n",
      "Epoch 100/100\n",
      "1008/1008 [==============================] - 1s 814us/step - loss: 1.7476e-04 - accuracy: 4.0770e-04 - val_loss: 1.3921e-04 - val_accuracy: 2.0149e-04\n"
     ]
    },
    {
     "data": {
      "text/plain": [
       "<tensorflow.python.keras.callbacks.History at 0x14bf4b72970>"
      ]
     },
     "execution_count": 20,
     "metadata": {},
     "output_type": "execute_result"
    }
   ],
   "source": [
    "# Fit the model\n",
    "model.fit(X, Y, validation_split=0.33, epochs=100, batch_size=10)"
   ]
  },
  {
   "cell_type": "code",
   "execution_count": 21,
   "metadata": {},
   "outputs": [
    {
     "name": "stdout",
     "output_type": "stream",
     "text": [
      "470/470 [==============================] - 1s 1ms/step - loss: 1.5524e-04 - accuracy: 1.3299e-04\n",
      "accuracy: 0.01%\n"
     ]
    }
   ],
   "source": [
    "# evaluate the model\n",
    "scores = model.evaluate(X, Y)\n",
    "print(\"%s: %.2f%%\" % (model.metrics_names[1], scores[1]*100))"
   ]
  },
  {
   "cell_type": "code",
   "execution_count": null,
   "metadata": {},
   "outputs": [],
   "source": []
  },
  {
   "cell_type": "code",
   "execution_count": null,
   "metadata": {},
   "outputs": [],
   "source": []
  },
  {
   "cell_type": "code",
   "execution_count": null,
   "metadata": {},
   "outputs": [],
   "source": []
  },
  {
   "cell_type": "code",
   "execution_count": 22,
   "metadata": {},
   "outputs": [
    {
     "name": "stdout",
     "output_type": "stream",
     "text": [
      "Epoch 1/100\n",
      "1008/1008 [==============================] - 2s 2ms/step - loss: 1.7215e-04 - accuracy: 9.9246e-05 - val_loss: 1.4549e-04 - val_accuracy: 2.0149e-04\n",
      "Epoch 2/100\n",
      "1008/1008 [==============================] - 1s 783us/step - loss: 1.7068e-04 - accuracy: 9.9246e-05 - val_loss: 1.4899e-04 - val_accuracy: 2.0149e-04\n",
      "Epoch 3/100\n",
      "1008/1008 [==============================] - 1s 826us/step - loss: 1.7377e-04 - accuracy: 9.9246e-05 - val_loss: 1.3711e-04 - val_accuracy: 2.0149e-04\n",
      "Epoch 4/100\n",
      "1008/1008 [==============================] - 1s 794us/step - loss: 1.7304e-04 - accuracy: 9.9246e-05 - val_loss: 1.3025e-04 - val_accuracy: 2.0149e-04\n",
      "Epoch 5/100\n",
      "1008/1008 [==============================] - 1s 919us/step - loss: 1.7239e-04 - accuracy: 9.9246e-05 - val_loss: 1.8082e-04 - val_accuracy: 2.0149e-04\n",
      "Epoch 6/100\n",
      "1008/1008 [==============================] - 2s 2ms/step - loss: 1.7515e-04 - accuracy: 9.9246e-05 - val_loss: 1.4024e-04 - val_accuracy: 2.0149e-04\n",
      "Epoch 7/100\n",
      "1008/1008 [==============================] - 3s 3ms/step - loss: 1.7254e-04 - accuracy: 9.9246e-05 - val_loss: 1.5515e-04 - val_accuracy: 2.0149e-04\n",
      "Epoch 8/100\n",
      "1008/1008 [==============================] - 4s 4ms/step - loss: 1.7283e-04 - accuracy: 9.9246e-05 - val_loss: 1.3911e-04 - val_accuracy: 2.0149e-04\n",
      "Epoch 9/100\n",
      "1008/1008 [==============================] - 3s 3ms/step - loss: 1.7553e-04 - accuracy: 9.9246e-05 - val_loss: 1.4429e-04 - val_accuracy: 2.0149e-04\n",
      "Epoch 10/100\n",
      "1008/1008 [==============================] - 3s 3ms/step - loss: 1.7133e-04 - accuracy: 9.9246e-05 - val_loss: 1.5879e-04 - val_accuracy: 2.0149e-04\n",
      "Epoch 11/100\n",
      "1008/1008 [==============================] - 3s 3ms/step - loss: 1.7113e-04 - accuracy: 9.9246e-05 - val_loss: 1.7916e-04 - val_accuracy: 2.0149e-04\n",
      "Epoch 12/100\n",
      "1008/1008 [==============================] - 4s 4ms/step - loss: 1.7248e-04 - accuracy: 9.9246e-05 - val_loss: 1.5129e-04 - val_accuracy: 2.0149e-04\n",
      "Epoch 13/100\n",
      "1008/1008 [==============================] - 4s 4ms/step - loss: 1.7090e-04 - accuracy: 9.9246e-05 - val_loss: 1.4462e-04 - val_accuracy: 2.0149e-04\n",
      "Epoch 14/100\n",
      "1008/1008 [==============================] - 4s 4ms/step - loss: 1.7086e-04 - accuracy: 9.9246e-05 - val_loss: 1.4640e-04 - val_accuracy: 2.0149e-04\n",
      "Epoch 15/100\n",
      "1008/1008 [==============================] - 4s 4ms/step - loss: 1.7199e-04 - accuracy: 9.9246e-05 - val_loss: 1.7211e-04 - val_accuracy: 2.0149e-04\n",
      "Epoch 16/100\n",
      "1008/1008 [==============================] - 4s 4ms/step - loss: 1.7286e-04 - accuracy: 9.9246e-05 - val_loss: 1.4485e-04 - val_accuracy: 2.0149e-04\n",
      "Epoch 17/100\n",
      "1008/1008 [==============================] - 4s 4ms/step - loss: 1.7364e-04 - accuracy: 9.9246e-05 - val_loss: 1.3197e-04 - val_accuracy: 2.0149e-04\n",
      "Epoch 18/100\n",
      "1008/1008 [==============================] - 4s 4ms/step - loss: 1.7410e-04 - accuracy: 9.9246e-05 - val_loss: 1.6210e-04 - val_accuracy: 2.0149e-04\n",
      "Epoch 19/100\n",
      "1008/1008 [==============================] - 3s 3ms/step - loss: 1.7339e-04 - accuracy: 9.9246e-05 - val_loss: 1.3886e-04 - val_accuracy: 2.0149e-04\n",
      "Epoch 20/100\n",
      "1008/1008 [==============================] - 4s 4ms/step - loss: 1.7096e-04 - accuracy: 9.9246e-05 - val_loss: 1.4758e-04 - val_accuracy: 2.0149e-04\n",
      "Epoch 21/100\n",
      "1008/1008 [==============================] - 4s 4ms/step - loss: 1.7397e-04 - accuracy: 9.9246e-05 - val_loss: 1.5456e-04 - val_accuracy: 2.0149e-04\n",
      "Epoch 22/100\n",
      "1008/1008 [==============================] - 4s 4ms/step - loss: 1.7221e-04 - accuracy: 9.9246e-05 - val_loss: 1.4939e-04 - val_accuracy: 2.0149e-04\n",
      "Epoch 23/100\n",
      "1008/1008 [==============================] - 4s 4ms/step - loss: 1.7159e-04 - accuracy: 9.9246e-05 - val_loss: 1.5478e-04 - val_accuracy: 2.0149e-04\n",
      "Epoch 24/100\n",
      "1008/1008 [==============================] - 4s 4ms/step - loss: 1.7390e-04 - accuracy: 9.9246e-05 - val_loss: 1.5987e-04 - val_accuracy: 2.0149e-04\n",
      "Epoch 25/100\n",
      "1008/1008 [==============================] - 4s 4ms/step - loss: 1.7222e-04 - accuracy: 9.9246e-05 - val_loss: 1.5258e-04 - val_accuracy: 2.0149e-04\n",
      "Epoch 26/100\n",
      "1008/1008 [==============================] - 4s 4ms/step - loss: 1.7330e-04 - accuracy: 9.9246e-05 - val_loss: 1.2948e-04 - val_accuracy: 2.0149e-04\n",
      "Epoch 27/100\n",
      "1008/1008 [==============================] - 4s 4ms/step - loss: 1.7258e-04 - accuracy: 9.9246e-05 - val_loss: 1.7599e-04 - val_accuracy: 2.0149e-04\n",
      "Epoch 28/100\n",
      "1008/1008 [==============================] - 4s 4ms/step - loss: 1.7070e-04 - accuracy: 9.9246e-05 - val_loss: 1.5543e-04 - val_accuracy: 2.0149e-04\n",
      "Epoch 29/100\n",
      "1008/1008 [==============================] - 4s 4ms/step - loss: 1.7290e-04 - accuracy: 9.9246e-05 - val_loss: 1.4874e-04 - val_accuracy: 2.0149e-04\n",
      "Epoch 30/100\n",
      "1008/1008 [==============================] - 4s 4ms/step - loss: 1.7135e-04 - accuracy: 9.9246e-05 - val_loss: 1.6524e-04 - val_accuracy: 2.0149e-04\n",
      "Epoch 31/100\n",
      "1008/1008 [==============================] - 4s 4ms/step - loss: 1.7002e-04 - accuracy: 9.9246e-05 - val_loss: 1.8041e-04 - val_accuracy: 2.0149e-04\n",
      "Epoch 32/100\n",
      "1008/1008 [==============================] - 3s 3ms/step - loss: 1.7260e-04 - accuracy: 9.9246e-05 - val_loss: 1.6127e-04 - val_accuracy: 2.0149e-04\n",
      "Epoch 33/100\n",
      "1008/1008 [==============================] - 3s 3ms/step - loss: 1.7250e-04 - accuracy: 9.9246e-05 - val_loss: 1.6274e-04 - val_accuracy: 2.0149e-04\n",
      "Epoch 34/100\n",
      "1008/1008 [==============================] - 1s 924us/step - loss: 1.7281e-04 - accuracy: 9.9246e-05 - val_loss: 1.4828e-04 - val_accuracy: 2.0149e-04\n",
      "Epoch 35/100\n",
      "1008/1008 [==============================] - 1s 792us/step - loss: 1.7380e-04 - accuracy: 9.9246e-05 - val_loss: 1.8514e-04 - val_accuracy: 2.0149e-04\n",
      "Epoch 36/100\n",
      "1008/1008 [==============================] - 1s 759us/step - loss: 1.7047e-04 - accuracy: 9.9246e-05 - val_loss: 1.5889e-04 - val_accuracy: 2.0149e-04\n",
      "Epoch 37/100\n",
      "1008/1008 [==============================] - 1s 750us/step - loss: 1.7204e-04 - accuracy: 9.9246e-05 - val_loss: 1.7805e-04 - val_accuracy: 2.0149e-04\n",
      "Epoch 38/100\n",
      "1008/1008 [==============================] - 1s 816us/step - loss: 1.7172e-04 - accuracy: 9.9246e-05 - val_loss: 1.2396e-04 - val_accuracy: 2.0149e-04\n",
      "Epoch 39/100\n",
      "1008/1008 [==============================] - 1s 753us/step - loss: 1.6946e-04 - accuracy: 9.9246e-05 - val_loss: 1.4825e-04 - val_accuracy: 2.0149e-04\n",
      "Epoch 40/100\n",
      "1008/1008 [==============================] - 1s 788us/step - loss: 1.7284e-04 - accuracy: 9.9246e-05 - val_loss: 1.5318e-04 - val_accuracy: 2.0149e-04\n",
      "Epoch 41/100\n",
      "1008/1008 [==============================] - 1s 750us/step - loss: 1.7129e-04 - accuracy: 9.9246e-05 - val_loss: 1.3141e-04 - val_accuracy: 2.0149e-04\n",
      "Epoch 42/100\n",
      "1008/1008 [==============================] - 1s 740us/step - loss: 1.7086e-04 - accuracy: 9.9246e-05 - val_loss: 1.7352e-04 - val_accuracy: 2.0149e-04\n",
      "Epoch 43/100\n",
      "1008/1008 [==============================] - 1s 737us/step - loss: 1.7010e-04 - accuracy: 9.9246e-05 - val_loss: 1.8792e-04 - val_accuracy: 2.0149e-04\n",
      "Epoch 44/100\n",
      "1008/1008 [==============================] - 1s 742us/step - loss: 1.6930e-04 - accuracy: 9.9246e-05 - val_loss: 1.8312e-04 - val_accuracy: 2.0149e-04\n",
      "Epoch 45/100\n",
      "1008/1008 [==============================] - 1s 746us/step - loss: 1.7304e-04 - accuracy: 9.9246e-05 - val_loss: 1.4092e-04 - val_accuracy: 2.0149e-04\n",
      "Epoch 46/100\n",
      "1008/1008 [==============================] - 1s 777us/step - loss: 1.7021e-04 - accuracy: 9.9246e-05 - val_loss: 1.3788e-04 - val_accuracy: 2.0149e-04\n",
      "Epoch 47/100\n",
      "1008/1008 [==============================] - 1s 736us/step - loss: 1.7194e-04 - accuracy: 9.9246e-05 - val_loss: 1.2951e-04 - val_accuracy: 2.0149e-04\n",
      "Epoch 48/100\n",
      "1008/1008 [==============================] - 1s 732us/step - loss: 1.7259e-04 - accuracy: 9.9246e-05 - val_loss: 1.5853e-04 - val_accuracy: 2.0149e-04\n",
      "Epoch 49/100\n",
      "1008/1008 [==============================] - 1s 742us/step - loss: 1.7144e-04 - accuracy: 9.9246e-05 - val_loss: 2.0138e-04 - val_accuracy: 2.0149e-04\n",
      "Epoch 50/100\n",
      "1008/1008 [==============================] - 1s 764us/step - loss: 1.6891e-04 - accuracy: 9.9246e-05 - val_loss: 1.5615e-04 - val_accuracy: 2.0149e-04\n",
      "Epoch 51/100\n",
      "1008/1008 [==============================] - 1s 762us/step - loss: 1.7377e-04 - accuracy: 9.9246e-05 - val_loss: 1.4490e-04 - val_accuracy: 2.0149e-04\n",
      "Epoch 52/100\n",
      "1008/1008 [==============================] - 1s 733us/step - loss: 1.7150e-04 - accuracy: 9.9246e-05 - val_loss: 1.5398e-04 - val_accuracy: 2.0149e-04\n",
      "Epoch 53/100\n",
      "1008/1008 [==============================] - 1s 727us/step - loss: 1.7088e-04 - accuracy: 9.9246e-05 - val_loss: 1.3778e-04 - val_accuracy: 2.0149e-04\n",
      "Epoch 54/100\n",
      "1008/1008 [==============================] - 1s 742us/step - loss: 1.7178e-04 - accuracy: 9.9246e-05 - val_loss: 1.3813e-04 - val_accuracy: 2.0149e-04\n",
      "Epoch 55/100\n",
      "1008/1008 [==============================] - 1s 771us/step - loss: 1.7075e-04 - accuracy: 9.9246e-05 - val_loss: 1.4897e-04 - val_accuracy: 2.0149e-04\n",
      "Epoch 56/100\n",
      "1008/1008 [==============================] - 1s 741us/step - loss: 1.7145e-04 - accuracy: 9.9246e-05 - val_loss: 1.3243e-04 - val_accuracy: 2.0149e-04\n",
      "Epoch 57/100\n",
      "1008/1008 [==============================] - 1s 773us/step - loss: 1.7019e-04 - accuracy: 9.9246e-05 - val_loss: 1.9181e-04 - val_accuracy: 2.0149e-04\n",
      "Epoch 58/100\n",
      "1008/1008 [==============================] - 1s 753us/step - loss: 1.7283e-04 - accuracy: 9.9246e-05 - val_loss: 1.4202e-04 - val_accuracy: 2.0149e-04\n",
      "Epoch 59/100\n",
      "1008/1008 [==============================] - 1s 1ms/step - loss: 1.7100e-04 - accuracy: 9.9246e-05 - val_loss: 1.5331e-04 - val_accuracy: 2.0149e-04\n",
      "Epoch 60/100\n",
      "1008/1008 [==============================] - 3s 3ms/step - loss: 1.7133e-04 - accuracy: 9.9246e-05 - val_loss: 1.4010e-04 - val_accuracy: 2.0149e-04\n",
      "Epoch 61/100\n",
      "1008/1008 [==============================] - 4s 4ms/step - loss: 1.7156e-04 - accuracy: 9.9246e-05 - val_loss: 1.6398e-04 - val_accuracy: 2.0149e-04\n",
      "Epoch 62/100\n",
      "1008/1008 [==============================] - 4s 4ms/step - loss: 1.7243e-04 - accuracy: 9.9246e-05 - val_loss: 1.6192e-04 - val_accuracy: 2.0149e-04\n",
      "Epoch 63/100\n",
      "1008/1008 [==============================] - 3s 3ms/step - loss: 1.7089e-04 - accuracy: 9.9246e-05 - val_loss: 1.8627e-04 - val_accuracy: 2.0149e-04\n",
      "Epoch 64/100\n",
      "1008/1008 [==============================] - 4s 4ms/step - loss: 1.7052e-04 - accuracy: 9.9246e-05 - val_loss: 1.3590e-04 - val_accuracy: 2.0149e-04\n",
      "Epoch 65/100\n",
      "1008/1008 [==============================] - 4s 4ms/step - loss: 1.7195e-04 - accuracy: 9.9246e-05 - val_loss: 1.3930e-04 - val_accuracy: 2.0149e-04\n",
      "Epoch 66/100\n",
      "1008/1008 [==============================] - 4s 4ms/step - loss: 1.7068e-04 - accuracy: 9.9246e-05 - val_loss: 1.3325e-04 - val_accuracy: 2.0149e-04\n",
      "Epoch 67/100\n",
      "1008/1008 [==============================] - 4s 4ms/step - loss: 1.7140e-04 - accuracy: 9.9246e-05 - val_loss: 1.5694e-04 - val_accuracy: 2.0149e-04\n",
      "Epoch 68/100\n",
      "1008/1008 [==============================] - 4s 4ms/step - loss: 1.7067e-04 - accuracy: 9.9246e-05 - val_loss: 1.7544e-04 - val_accuracy: 2.0149e-04\n",
      "Epoch 69/100\n",
      "1008/1008 [==============================] - 4s 4ms/step - loss: 1.7054e-04 - accuracy: 9.9246e-05 - val_loss: 1.5731e-04 - val_accuracy: 2.0149e-04\n",
      "Epoch 70/100\n",
      "1008/1008 [==============================] - 4s 4ms/step - loss: 1.7071e-04 - accuracy: 9.9246e-05 - val_loss: 1.3638e-04 - val_accuracy: 2.0149e-04\n",
      "Epoch 71/100\n",
      "1008/1008 [==============================] - 4s 4ms/step - loss: 1.7047e-04 - accuracy: 9.9246e-05 - val_loss: 1.3929e-04 - val_accuracy: 2.0149e-04\n",
      "Epoch 72/100\n",
      "1008/1008 [==============================] - 4s 4ms/step - loss: 1.6890e-04 - accuracy: 9.9246e-05 - val_loss: 1.3619e-04 - val_accuracy: 2.0149e-04\n",
      "Epoch 73/100\n",
      "1008/1008 [==============================] - 4s 4ms/step - loss: 1.7160e-04 - accuracy: 9.9246e-05 - val_loss: 1.4248e-04 - val_accuracy: 2.0149e-04\n",
      "Epoch 74/100\n",
      "1008/1008 [==============================] - 4s 4ms/step - loss: 1.7127e-04 - accuracy: 9.9246e-05 - val_loss: 1.4532e-04 - val_accuracy: 2.0149e-04\n",
      "Epoch 75/100\n",
      "1008/1008 [==============================] - 4s 4ms/step - loss: 1.6851e-04 - accuracy: 9.9246e-05 - val_loss: 1.4669e-04 - val_accuracy: 2.0149e-04\n",
      "Epoch 76/100\n",
      "1008/1008 [==============================] - 4s 4ms/step - loss: 1.7070e-04 - accuracy: 9.9246e-05 - val_loss: 1.3693e-04 - val_accuracy: 2.0149e-04\n",
      "Epoch 77/100\n",
      "1008/1008 [==============================] - 4s 4ms/step - loss: 1.7210e-04 - accuracy: 9.9246e-05 - val_loss: 1.4101e-04 - val_accuracy: 2.0149e-04\n",
      "Epoch 78/100\n",
      "1008/1008 [==============================] - 4s 4ms/step - loss: 1.7019e-04 - accuracy: 9.9246e-05 - val_loss: 1.5350e-04 - val_accuracy: 2.0149e-04\n",
      "Epoch 79/100\n",
      "1008/1008 [==============================] - 4s 4ms/step - loss: 1.7013e-04 - accuracy: 9.9246e-05 - val_loss: 1.3471e-04 - val_accuracy: 2.0149e-04\n",
      "Epoch 80/100\n",
      "1008/1008 [==============================] - 2s 2ms/step - loss: 1.7017e-04 - accuracy: 9.9246e-05 - val_loss: 1.4216e-04 - val_accuracy: 2.0149e-04\n",
      "Epoch 81/100\n",
      "1008/1008 [==============================] - 4s 4ms/step - loss: 1.6914e-04 - accuracy: 9.9246e-05 - val_loss: 1.5033e-04 - val_accuracy: 2.0149e-04\n",
      "Epoch 82/100\n",
      "1008/1008 [==============================] - 1s 940us/step - loss: 1.7334e-04 - accuracy: 9.9246e-05 - val_loss: 1.3607e-04 - val_accuracy: 2.0149e-04\n",
      "Epoch 83/100\n",
      "1008/1008 [==============================] - 1s 844us/step - loss: 1.7082e-04 - accuracy: 9.9246e-05 - val_loss: 1.4796e-04 - val_accuracy: 2.0149e-04\n",
      "Epoch 84/100\n",
      "1008/1008 [==============================] - 1s 859us/step - loss: 1.7068e-04 - accuracy: 9.9246e-05 - val_loss: 1.5196e-04 - val_accuracy: 2.0149e-04\n",
      "Epoch 85/100\n",
      "1008/1008 [==============================] - 1s 1ms/step - loss: 1.7131e-04 - accuracy: 9.9246e-05 - val_loss: 1.5027e-04 - val_accuracy: 2.0149e-04\n",
      "Epoch 86/100\n",
      "1008/1008 [==============================] - 4s 4ms/step - loss: 1.7380e-04 - accuracy: 9.9246e-05 - val_loss: 2.0759e-04 - val_accuracy: 2.0149e-04\n",
      "Epoch 87/100\n",
      "1008/1008 [==============================] - 4s 3ms/step - loss: 1.6939e-04 - accuracy: 9.9246e-05 - val_loss: 1.4759e-04 - val_accuracy: 2.0149e-04\n",
      "Epoch 88/100\n",
      "1008/1008 [==============================] - 3s 3ms/step - loss: 1.6973e-04 - accuracy: 9.9246e-05 - val_loss: 1.3102e-04 - val_accuracy: 2.0149e-04\n",
      "Epoch 89/100\n",
      "1008/1008 [==============================] - 4s 4ms/step - loss: 1.7116e-04 - accuracy: 9.9246e-05 - val_loss: 1.4114e-04 - val_accuracy: 2.0149e-04\n",
      "Epoch 90/100\n",
      "1008/1008 [==============================] - 3s 2ms/step - loss: 1.7160e-04 - accuracy: 9.9246e-05 - val_loss: 1.8182e-04 - val_accuracy: 2.0149e-04\n",
      "Epoch 91/100\n",
      "1008/1008 [==============================] - 4s 4ms/step - loss: 1.6913e-04 - accuracy: 9.9246e-05 - val_loss: 1.6064e-04 - val_accuracy: 2.0149e-04\n",
      "Epoch 92/100\n",
      "1008/1008 [==============================] - 1s 813us/step - loss: 1.7092e-04 - accuracy: 9.9246e-05 - val_loss: 1.5625e-04 - val_accuracy: 2.0149e-04\n",
      "Epoch 93/100\n",
      "1008/1008 [==============================] - 1s 810us/step - loss: 1.6957e-04 - accuracy: 9.9246e-05 - val_loss: 1.4008e-04 - val_accuracy: 2.0149e-04\n",
      "Epoch 94/100\n",
      "1008/1008 [==============================] - 1s 826us/step - loss: 1.6853e-04 - accuracy: 9.9246e-05 - val_loss: 1.2865e-04 - val_accuracy: 2.0149e-04\n",
      "Epoch 95/100\n",
      "1008/1008 [==============================] - 1s 1ms/step - loss: 1.7147e-04 - accuracy: 9.9246e-05 - val_loss: 1.7704e-04 - val_accuracy: 2.0149e-04\n",
      "Epoch 96/100\n",
      "1008/1008 [==============================] - 3s 3ms/step - loss: 1.6913e-04 - accuracy: 9.9246e-05 - val_loss: 1.5325e-04 - val_accuracy: 2.0149e-04\n",
      "Epoch 97/100\n",
      "1008/1008 [==============================] - 1s 826us/step - loss: 1.7314e-04 - accuracy: 9.9246e-05 - val_loss: 1.3213e-04 - val_accuracy: 2.0149e-04\n",
      "Epoch 98/100\n",
      "1008/1008 [==============================] - 1s 881us/step - loss: 1.6846e-04 - accuracy: 9.9246e-05 - val_loss: 1.3977e-04 - val_accuracy: 2.0149e-04\n",
      "Epoch 99/100\n",
      "1008/1008 [==============================] - 1s 842us/step - loss: 1.7115e-04 - accuracy: 9.9246e-05 - val_loss: 2.0262e-04 - val_accuracy: 2.0149e-04\n",
      "Epoch 100/100\n",
      "1008/1008 [==============================] - 1s 859us/step - loss: 1.6869e-04 - accuracy: 9.9246e-05 - val_loss: 1.3115e-04 - val_accuracy: 2.0149e-04\n"
     ]
    }
   ],
   "source": [
    "history = model.fit(X, Y, validation_split=0.33, epochs=100, batch_size=10)"
   ]
  },
  {
   "cell_type": "code",
   "execution_count": 23,
   "metadata": {},
   "outputs": [
    {
     "data": {
      "text/plain": [
       "dict_keys(['loss', 'accuracy', 'val_loss', 'val_accuracy'])"
      ]
     },
     "execution_count": 23,
     "metadata": {},
     "output_type": "execute_result"
    }
   ],
   "source": [
    "# Visualize training history\n",
    "\n",
    "# list all data in history\n",
    "model.history.history.keys()"
   ]
  },
  {
   "cell_type": "code",
   "execution_count": 24,
   "metadata": {},
   "outputs": [
    {
     "data": {
      "image/png": "[encoded data removed]",
      "text/plain": [
       "<Figure size 432x288 with 1 Axes>"
      ]
     },
     "metadata": {
      "needs_background": "light"
     },
     "output_type": "display_data"
    },
    {
     "data": {
      "image/png": "[encoded data removed]",
      "text/plain": [
       "<Figure size 432x288 with 1 Axes>"
      ]
     },
     "metadata": {
      "needs_background": "light"
     },
     "output_type": "display_data"
    }
   ],
   "source": [
    "# summarize history for accuracy\n",
    "plt.plot(history.history['accuracy'])\n",
    "plt.plot(history.history['val_accuracy'])\n",
    "plt.title('model accuracy')\n",
    "plt.ylabel('accuracy')\n",
    "plt.xlabel('epoch')\n",
    "plt.legend(['train', 'test'], loc='upper left')\n",
    "plt.show()\n",
    "# summarize history for loss\n",
    "plt.plot(history.history['loss'])\n",
    "plt.plot(history.history['val_loss'])\n",
    "plt.title('model loss')\n",
    "plt.ylabel('loss')\n",
    "plt.xlabel('epoch')\n",
    "plt.legend(['train', 'test'], loc='upper left')\n",
    "plt.show()\n"
   ]
  },
  {
   "cell_type": "markdown",
   "metadata": {},
   "source": [
    "#### Tuning of Hyperparameters :- Batch Size and Epochs"
   ]
  },
  {
   "cell_type": "code",
   "execution_count": 25,
   "metadata": {},
   "outputs": [],
   "source": [
    "# Importing the necessary packages\n",
    "from sklearn.model_selection import GridSearchCV, KFold\n",
    "from keras.wrappers.scikit_learn import KerasClassifier\n",
    "from keras.optimizers import Adam"
   ]
  },
  {
   "cell_type": "code",
   "execution_count": 26,
   "metadata": {},
   "outputs": [],
   "source": [
    "# create model\n",
    "def create_model():\n",
    "    model = Sequential()\n",
    "    model.add(Dense(12, input_dim=10, kernel_initializer='uniform', activation='relu'))\n",
    "    model.add(Dense(8, kernel_initializer='uniform', activation='relu'))\n",
    "    model.add(Dense(1, kernel_initializer='uniform', activation='sigmoid'))\n",
    "    \n",
    "    adam=Adam(lr=0.01)\n",
    "    model.compile(loss='mse', optimizer=adam, metrics=['accuracy'])\n",
    "    return model"
   ]
  },
  {
   "cell_type": "code",
   "execution_count": 28,
   "metadata": {},
   "outputs": [
    {
     "name": "stdout",
     "output_type": "stream",
     "text": [
      "Fitting 5 folds for each of 9 candidates, totalling 45 fits\n",
      "[CV] batch_size=10, epochs=10 ........................................\n"
     ]
    },
    {
     "name": "stderr",
     "output_type": "stream",
     "text": [
      "[Parallel(n_jobs=1)]: Using backend SequentialBackend with 1 concurrent workers.\n"
     ]
    },
    {
     "name": "stdout",
     "output_type": "stream",
     "text": [
      "[CV] ............ batch_size=10, epochs=10, score=0.000, total=   5.6s\n",
      "[CV] batch_size=10, epochs=10 ........................................\n"
     ]
    },
    {
     "name": "stderr",
     "output_type": "stream",
     "text": [
      "[Parallel(n_jobs=1)]: Done   1 out of   1 | elapsed:    5.5s remaining:    0.0s\n"
     ]
    },
    {
     "name": "stdout",
     "output_type": "stream",
     "text": [
      "[CV] ............ batch_size=10, epochs=10, score=0.000, total=  11.9s\n",
      "[CV] batch_size=10, epochs=10 ........................................\n"
     ]
    },
    {
     "name": "stderr",
     "output_type": "stream",
     "text": [
      "[Parallel(n_jobs=1)]: Done   2 out of   2 | elapsed:   17.4s remaining:    0.0s\n"
     ]
    },
    {
     "name": "stdout",
     "output_type": "stream",
     "text": [
      "[CV] ............ batch_size=10, epochs=10, score=0.000, total=   5.9s\n",
      "[CV] batch_size=10, epochs=10 ........................................\n"
     ]
    },
    {
     "name": "stderr",
     "output_type": "stream",
     "text": [
      "[Parallel(n_jobs=1)]: Done   3 out of   3 | elapsed:   23.4s remaining:    0.0s\n"
     ]
    },
    {
     "name": "stdout",
     "output_type": "stream",
     "text": [
      "[CV] ............ batch_size=10, epochs=10, score=0.000, total=   5.9s\n",
      "[CV] batch_size=10, epochs=10 ........................................\n"
     ]
    },
    {
     "name": "stderr",
     "output_type": "stream",
     "text": [
      "[Parallel(n_jobs=1)]: Done   4 out of   4 | elapsed:   29.2s remaining:    0.0s\n"
     ]
    },
    {
     "name": "stdout",
     "output_type": "stream",
     "text": [
      "[CV] ............ batch_size=10, epochs=10, score=0.000, total=   5.8s\n",
      "[CV] batch_size=10, epochs=50 ........................................\n"
     ]
    },
    {
     "name": "stderr",
     "output_type": "stream",
     "text": [
      "[Parallel(n_jobs=1)]: Done   5 out of   5 | elapsed:   35.1s remaining:    0.0s\n"
     ]
    },
    {
     "name": "stdout",
     "output_type": "stream",
     "text": [
      "[CV] ............ batch_size=10, epochs=50, score=0.000, total=  28.0s\n",
      "[CV] batch_size=10, epochs=50 ........................................\n"
     ]
    },
    {
     "name": "stderr",
     "output_type": "stream",
     "text": [
      "[Parallel(n_jobs=1)]: Done   6 out of   6 | elapsed:  1.1min remaining:    0.0s\n"
     ]
    },
    {
     "name": "stdout",
     "output_type": "stream",
     "text": [
      "[CV] ............ batch_size=10, epochs=50, score=0.000, total=  48.7s\n",
      "[CV] batch_size=10, epochs=50 ........................................\n"
     ]
    },
    {
     "name": "stderr",
     "output_type": "stream",
     "text": [
      "[Parallel(n_jobs=1)]: Done   7 out of   7 | elapsed:  1.9min remaining:    0.0s\n"
     ]
    },
    {
     "name": "stdout",
     "output_type": "stream",
     "text": [
      "[CV] ............ batch_size=10, epochs=50, score=0.000, total=  23.8s\n",
      "[CV] batch_size=10, epochs=50 ........................................\n"
     ]
    },
    {
     "name": "stderr",
     "output_type": "stream",
     "text": [
      "[Parallel(n_jobs=1)]: Done   8 out of   8 | elapsed:  2.3min remaining:    0.0s\n"
     ]
    },
    {
     "name": "stdout",
     "output_type": "stream",
     "text": [
      "[CV] ............ batch_size=10, epochs=50, score=0.000, total=  26.4s\n",
      "[CV] batch_size=10, epochs=50 ........................................\n"
     ]
    },
    {
     "name": "stderr",
     "output_type": "stream",
     "text": [
      "[Parallel(n_jobs=1)]: Done   9 out of   9 | elapsed:  2.7min remaining:    0.0s\n"
     ]
    },
    {
     "name": "stdout",
     "output_type": "stream",
     "text": [
      "[CV] ............ batch_size=10, epochs=50, score=0.000, total=  34.7s\n",
      "[CV] batch_size=10, epochs=100 .......................................\n",
      "[CV] ........... batch_size=10, epochs=100, score=0.000, total=  49.4s\n",
      "[CV] batch_size=10, epochs=100 .......................................\n",
      "[CV] ........... batch_size=10, epochs=100, score=0.000, total= 1.0min\n",
      "[CV] batch_size=10, epochs=100 .......................................\n",
      "[CV] ........... batch_size=10, epochs=100, score=0.000, total=  50.7s\n",
      "[CV] batch_size=10, epochs=100 .......................................\n",
      "[CV] ........... batch_size=10, epochs=100, score=0.000, total= 1.1min\n",
      "[CV] batch_size=10, epochs=100 .......................................\n",
      "[CV] ........... batch_size=10, epochs=100, score=0.000, total=  53.8s\n",
      "[CV] batch_size=20, epochs=10 ........................................\n",
      "[CV] ............ batch_size=20, epochs=10, score=0.000, total=   3.4s\n",
      "[CV] batch_size=20, epochs=10 ........................................\n",
      "[CV] ............ batch_size=20, epochs=10, score=0.000, total=   3.0s\n",
      "[CV] batch_size=20, epochs=10 ........................................\n",
      "[CV] ............ batch_size=20, epochs=10, score=0.000, total=   2.9s\n",
      "[CV] batch_size=20, epochs=10 ........................................\n",
      "[CV] ............ batch_size=20, epochs=10, score=0.000, total=   3.0s\n",
      "[CV] batch_size=20, epochs=10 ........................................\n",
      "[CV] ............ batch_size=20, epochs=10, score=0.000, total=   3.0s\n",
      "[CV] batch_size=20, epochs=50 ........................................\n",
      "[CV] ............ batch_size=20, epochs=50, score=0.000, total=  12.7s\n",
      "[CV] batch_size=20, epochs=50 ........................................\n",
      "[CV] ............ batch_size=20, epochs=50, score=0.000, total=  12.3s\n",
      "[CV] batch_size=20, epochs=50 ........................................\n",
      "[CV] ............ batch_size=20, epochs=50, score=0.000, total=  12.5s\n",
      "[CV] batch_size=20, epochs=50 ........................................\n",
      "[CV] ............ batch_size=20, epochs=50, score=0.000, total=  12.4s\n",
      "[CV] batch_size=20, epochs=50 ........................................\n",
      "[CV] ............ batch_size=20, epochs=50, score=0.000, total=  12.6s\n",
      "[CV] batch_size=20, epochs=100 .......................................\n",
      "[CV] ........... batch_size=20, epochs=100, score=0.000, total=  24.2s\n",
      "[CV] batch_size=20, epochs=100 .......................................\n",
      "[CV] ........... batch_size=20, epochs=100, score=0.000, total=  24.6s\n",
      "[CV] batch_size=20, epochs=100 .......................................\n",
      "[CV] ........... batch_size=20, epochs=100, score=0.000, total=  29.9s\n",
      "[CV] batch_size=20, epochs=100 .......................................\n",
      "[CV] ........... batch_size=20, epochs=100, score=0.000, total=  24.1s\n",
      "[CV] batch_size=20, epochs=100 .......................................\n",
      "[CV] ........... batch_size=20, epochs=100, score=0.000, total=  53.3s\n",
      "[CV] batch_size=40, epochs=10 ........................................\n",
      "[CV] ............ batch_size=40, epochs=10, score=0.000, total=   1.9s\n",
      "[CV] batch_size=40, epochs=10 ........................................\n",
      "[CV] ............ batch_size=40, epochs=10, score=0.000, total=   1.9s\n",
      "[CV] batch_size=40, epochs=10 ........................................\n",
      "[CV] ............ batch_size=40, epochs=10, score=0.000, total=   2.0s\n",
      "[CV] batch_size=40, epochs=10 ........................................\n",
      "[CV] ............ batch_size=40, epochs=10, score=0.000, total=   2.2s\n",
      "[CV] batch_size=40, epochs=10 ........................................\n",
      "[CV] ............ batch_size=40, epochs=10, score=0.000, total=   2.2s\n",
      "[CV] batch_size=40, epochs=50 ........................................\n",
      "[CV] ............ batch_size=40, epochs=50, score=0.000, total=  11.4s\n",
      "[CV] batch_size=40, epochs=50 ........................................\n",
      "[CV] ............ batch_size=40, epochs=50, score=0.000, total=   7.5s\n",
      "[CV] batch_size=40, epochs=50 ........................................\n",
      "[CV] ............ batch_size=40, epochs=50, score=0.000, total=   7.9s\n",
      "[CV] batch_size=40, epochs=50 ........................................\n",
      "[CV] ............ batch_size=40, epochs=50, score=0.000, total=   7.5s\n",
      "[CV] batch_size=40, epochs=50 ........................................\n",
      "[CV] ............ batch_size=40, epochs=50, score=0.000, total=   6.9s\n",
      "[CV] batch_size=40, epochs=100 .......................................\n",
      "[CV] ........... batch_size=40, epochs=100, score=0.000, total=  12.8s\n",
      "[CV] batch_size=40, epochs=100 .......................................\n",
      "[CV] ........... batch_size=40, epochs=100, score=0.000, total=  15.3s\n",
      "[CV] batch_size=40, epochs=100 .......................................\n",
      "[CV] ........... batch_size=40, epochs=100, score=0.000, total=  13.7s\n",
      "[CV] batch_size=40, epochs=100 .......................................\n",
      "[CV] ........... batch_size=40, epochs=100, score=0.000, total=  13.4s\n",
      "[CV] batch_size=40, epochs=100 .......................................\n",
      "[CV] ........... batch_size=40, epochs=100, score=0.000, total=  13.5s\n"
     ]
    },
    {
     "name": "stderr",
     "output_type": "stream",
     "text": [
      "[Parallel(n_jobs=1)]: Done  45 out of  45 | elapsed: 13.9min finished\n"
     ]
    }
   ],
   "source": [
    "# Create the model\n",
    "model = KerasClassifier(build_fn = create_model,verbose = 0)\n",
    "# Define the grid search parameters\n",
    "batch_size = [10,20,40]\n",
    "epochs = [10,50,100]\n",
    "# Make a dictionary of the grid search parameters\n",
    "param_grid = dict(batch_size = batch_size,epochs = epochs)\n",
    "# Build and fit the GridSearchCV\n",
    "grid = GridSearchCV(estimator = model,param_grid = param_grid,cv = KFold(),verbose = 10)\n",
    "grid_result = grid.fit(X,Y)"
   ]
  }
 ],
 "metadata": {
  "kernelspec": {
   "display_name": "Python 3",
   "language": "python",
   "name": "python3"
  },
  "language_info": {
   "codemirror_mode": {
    "name": "ipython",
    "version": 3
   },
   "file_extension": ".py",
   "mimetype": "text/x-python",
   "name": "python",
   "nbconvert_exporter": "python",
   "pygments_lexer": "ipython3",
   "version": "3.8.5"
  }
 },
 "nbformat": 4,
 "nbformat_minor": 4
}
